{
 "cells": [
  {
   "cell_type": "markdown",
   "metadata": {
    "id": "quHwuvnL_N9o"
   },
   "source": [
    "# Project 1: Image Classification"
   ]
  },
  {
   "cell_type": "markdown",
   "metadata": {
    "id": "1JWfOd3AVO9J"
   },
   "source": [
    "## Task 0: Getting Started\n",
    "\n",
    "Read the getting started guide titled **\"Python for Deep Learning\"** and get familiar with Python and PyTorch. Read the provided code below and get familiar with the commands and their parameters to understand what the code is trying to do. We recommend to spend a fair amount of time to understand all the different parts of the code. This understanding will be important for this and future projects.\n",
    "\n",
    "The goal of this project is to implement the *“Hello World!”* program of deep learning: designing and training a network that performs image classification. The dataset we will be using is CIFAR10 which is a large set of images that are classified into 10 classes (airplane, bird, cat, etc.)."
   ]
  },
  {
   "cell_type": "markdown",
   "metadata": {
    "id": "Wgsyd2YsVO9L"
   },
   "source": [
    "## Task 1:  Data Loading (10 points)\n",
    "Complete the **DataLoader** below which we will use to load images of the cifar10 dataset provided by torchvision. Your task is to normalize it by shifting and scaling it by a factor of 0.5. For the training set, introduce random transformations (e.g. flips) for data augmentation."
   ]
  },
  {
   "cell_type": "code",
   "execution_count": 65,
   "metadata": {
    "colab": {
     "base_uri": "https://localhost:8080/"
    },
    "id": "EtxYeHjRVO9S",
    "outputId": "210857dc-3b3e-4bd2-cb61-ae1e13877715"
   },
   "outputs": [
    {
     "name": "stdout",
     "output_type": "stream",
     "text": [
      "2.0.0\n",
      "Files already downloaded and verified\n",
      "Files already downloaded and verified\n",
      "cuda:0\n",
      "The classes found in CIFAR-10 are: ['airplane', 'automobile', 'bird', 'cat', 'deer', 'dog', 'frog', 'horse', 'ship', 'truck']\n"
     ]
    }
   ],
   "source": [
    "from __future__ import print_function, division\n",
    "\n",
    "import os\n",
    "import time\n",
    "import numpy as np\n",
    "\n",
    "import torch\n",
    "import torch.nn as nn\n",
    "import torch.optim as optim\n",
    "import torch.nn.functional as F\n",
    "from torch.optim import lr_scheduler\n",
    "import torchvision\n",
    "from torchvision import datasets, models, transforms\n",
    "from torch.utils.data.sampler import SubsetRandomSampler\n",
    "print(torch.__version__)\n",
    "from PIL import Image\n",
    "import matplotlib.pyplot as plt\n",
    "plt.ion()   # interactive mode\n",
    "\n",
    "# Data augmentation, tensor conversion and normalization for training\n",
    "# Just normalization and tensor conversion for testing\n",
    "mean, std = (0.5,), (0.5,)\n",
    "data_transforms = {\n",
    "    'train': transforms.Compose([transforms.RandomHorizontalFlip(), \n",
    "                                 transforms.ToTensor(), \n",
    "                                 transforms.Normalize(mean, std)]),\n",
    "    'test': transforms.Compose([transforms.ToTensor(), \n",
    "                                transforms.Normalize(mean, std)])\n",
    "}\n",
    "\n",
    "# Download (if not downloaded before) & Load CIFAR10\n",
    "torch.random.manual_seed(0)\n",
    "image_datasets = {x: torchvision.datasets.CIFAR10(root='./data', train=(x=='train'), download=True, transform=data_transforms[x]) for x in ['train', 'test']}\n",
    "dataloaders = {x: torch.utils.data.DataLoader(image_datasets[x], batch_size=4, shuffle=(x=='train'), num_workers=4) for x in ['train', 'test']}\n",
    "dataset_sizes = {x: len(image_datasets[x]) for x in ['train', 'test']}\n",
    "class_names = image_datasets['train'].classes\n",
    "\n",
    "# Ship to GPU\n",
    "device = torch.device(\"cuda:0\" if torch.cuda.is_available() else \"cpu\")\n",
    "print(device)\n",
    "print(f\"The classes found in CIFAR-10 are: {class_names}\")"
   ]
  },
  {
   "cell_type": "markdown",
   "metadata": {
    "id": "uS6cR4RhVO9U"
   },
   "source": [
    "### Visualize a few images\n",
    "\n",
    "Let’s visualize a few training images so as to understand the data augmentations. The results should look like:\n",
    "\n",
    "<img src=\"https://i.imgur.com/Sa6l1go.png\" width=\"400\" align=\"left\">"
   ]
  },
  {
   "cell_type": "code",
   "execution_count": 3,
   "metadata": {
    "id": "xXSA5DDBVO9V"
   },
   "outputs": [
    {
     "data": {
      "image/png": "[encoded data removed]",
      "text/plain": [
       "<Figure size 640x480 with 1 Axes>"
      ]
     },
     "metadata": {},
     "output_type": "display_data"
    }
   ],
   "source": [
    "# TODO Task 1:  Run this cell and try to understand the output of each step\n",
    "def imshow(inp, title=None):\n",
    "    \"\"\"Imshow for Tensor.\"\"\"\n",
    "    inp = inp.numpy().transpose((1, 2, 0))\n",
    "    mean = np.array([0.5, 0.5, 0.5])\n",
    "    std = np.array([0.5, 0.5, 0.5])\n",
    "    inp = std * inp + mean\n",
    "    inp = np.clip(inp, 0, 1)\n",
    "    plt.imshow(inp)\n",
    "    if title is not None:\n",
    "        plt.title(title)\n",
    "    plt.pause(0.001)  # pause a bit so that plots are updated\n",
    "\n",
    "# Get a batch of training data\n",
    "inputs, classes = next(iter(dataloaders['train']))\n",
    "\n",
    "# Make a grid from batch\n",
    "out = torchvision.utils.make_grid(inputs)\n",
    "\n",
    "imshow(out, title=[class_names[x] for x in classes])"
   ]
  },
  {
   "cell_type": "markdown",
   "metadata": {
    "id": "YmMMSK0TVO9L"
   },
   "source": [
    "## Task 2: Basic Networks (20 points)\n",
    "1. Create a Fully connected Network (FcNet) using the following layers in the Jupyter Notebook (use the non-linearities wherever necessary):\n",
    "```\n",
    "FcNet(\n",
    "  (fc1): Linear(in_features=3072, out_features=1024, bias=True)\n",
    "  (fc2): Linear(in_features=1024, out_features=400, bias=True)\n",
    "  (fc3): Linear(in_features=400, out_features=84, bias=True)\n",
    "  (fc4): Linear(in_features=84, out_features=10, bias=True)\n",
    ")\n",
    "```\n",
    "Train the FcNet for **3** epoches and record the training time and accuracy in your final report.\n",
    "\n",
    "2. Create a Convolutional Network (ConvNet) using the following layers in the Jupyter Notebook (use the non-linearities wherever necessary):\n",
    "```\n",
    "ConvNet(\n",
    "  (conv): Conv2d(3, 6, kernel_size=(5, 5), stride=(1, 1))\n",
    "  (pool): MaxPool2d(kernel_size=2, stride=2, padding=0, dilation=1, ceil_mode=False)\n",
    "  (conv): Conv2d(6, 16, kernel_size=(5, 5), stride=(1, 1))\n",
    "  (pool): MaxPool2d(kernel_size=2, stride=2, padding=0, dilation=1, ceil_mode=False)\n",
    "  (fc1): Linear(in_features=400, out_features=120, bias=True)\n",
    "  (fc2): Linear(in_features=120, out_features=84, bias=True)\n",
    "  (fc3): Linear(in_features=84, out_features=10, bias=True)\n",
    ")\n",
    "```\n",
    "Train the ConvNet for **3** epoches and record the training time and accuracy in your final report. Note: You can reuse the conv layers to match the in_features of fc1. \n",
    "\n",
    "*Use the default SGD optimizer ( lr=0.001, momentum=0.9) for training."
   ]
  },
  {
   "cell_type": "markdown",
   "metadata": {
    "id": "1sKXg8fSVO9X"
   },
   "source": [
    "### Model training code "
   ]
  },
  {
   "cell_type": "code",
   "execution_count": 3,
   "metadata": {
    "id": "A_Y2cgPEVO9X"
   },
   "outputs": [],
   "source": [
    "def train_model(model, criterion, optimizer, num_epochs=25, save_path='saved_weight.pth'):\n",
    "    since = time.time()\n",
    "\n",
    "    for epoch in range(num_epochs):\n",
    "        print('Epoch {}/{}'.format(epoch, num_epochs - 1))\n",
    "        print('-' * 10)\n",
    "\n",
    "        # Each epoch has a training and validation phase\n",
    "        for phase in ['train']:\n",
    "            if phase == 'train': model.train()  # Set model to training mode\n",
    "\n",
    "            running_loss = 0.0\n",
    "            running_corrects = 0\n",
    "\n",
    "            # Iterate over data.\n",
    "            for inputs, labels in dataloaders[phase]:\n",
    "                inputs = inputs.to(device)\n",
    "                labels = labels.to(device)\n",
    "\n",
    "                # zero the parameter gradients\n",
    "                optimizer.zero_grad()\n",
    "\n",
    "                # forward\n",
    "                # track history if only in train\n",
    "                with torch.set_grad_enabled(phase == 'train'):\n",
    "                    outputs = model(inputs)\n",
    "                    _, preds = torch.max(outputs, 1)\n",
    "                    loss = criterion(outputs, labels)\n",
    "\n",
    "                    # backward + optimize only if in training phase\n",
    "                    if phase == 'train':\n",
    "                        loss.backward()\n",
    "                        optimizer.step()\n",
    "\n",
    "                # statistics\n",
    "                running_loss += loss.item() * inputs.size(0)\n",
    "                running_corrects += torch.sum(preds == labels.data)\n",
    "\n",
    "            epoch_loss = running_loss / dataset_sizes[phase]\n",
    "            epoch_acc = running_corrects.double() / dataset_sizes[phase]\n",
    "\n",
    "            print('{} Loss: {:.4f} Acc: {:.4f}'.format(phase, epoch_loss, epoch_acc))\n",
    "\n",
    "    time_elapsed = time.time() - since\n",
    "    print('Training complete in {:.0f}m {:.0f}s'.format(time_elapsed // 60, time_elapsed % 60))\n",
    "\n",
    "    torch.save(model.state_dict(), save_path)\n",
    "    return model"
   ]
  },
  {
   "cell_type": "markdown",
   "metadata": {
    "id": "wrQFn-EzBKmA"
   },
   "source": [
    "### Model test code "
   ]
  },
  {
   "cell_type": "code",
   "execution_count": 13,
   "metadata": {
    "id": "ttChDlePBKmB"
   },
   "outputs": [],
   "source": [
    "def test_model(model, load_path='saved_weight.pth'):    \n",
    "    # load the model weights\n",
    "    model.load_state_dict(torch.load(load_path))\n",
    "    \n",
    "    since = time.time()\n",
    "\n",
    "    for phase in ['test']:\n",
    "        if phase == 'test':\n",
    "            model.eval()   # Set model to evaluate mode\n",
    "            \n",
    "        running_corrects = 0\n",
    "\n",
    "        # Iterate over data.\n",
    "        for inputs, labels in dataloaders[phase]:\n",
    "            inputs = inputs.to(device)\n",
    "            labels = labels.to(device)\n",
    "           \n",
    "\n",
    "            with torch.no_grad():\n",
    "                outputs = model(inputs)\n",
    "                _, preds = torch.max(outputs, 1)\n",
    "\n",
    "            # statistics\n",
    "            running_corrects += torch.sum(preds == labels.data)\n",
    "        epoch_acc = running_corrects.double() / dataset_sizes[phase]\n",
    "\n",
    "        print('{} Acc: {:.4f}'.format(phase, epoch_acc))\n",
    "\n",
    "    time_elapsed = time.time() - since\n",
    "    print('Testing complete in {:.0f}m {:.0f}s'.format(time_elapsed // 60, time_elapsed % 60))\n",
    "\n",
    "    return epoch_acc"
   ]
  },
  {
   "cell_type": "markdown",
   "metadata": {
    "id": "tX6I8cqXFDMX"
   },
   "source": [
    "### 1) FC Network"
   ]
  },
  {
   "cell_type": "code",
   "execution_count": 6,
   "metadata": {
    "id": "rpompN92VO9d"
   },
   "outputs": [
    {
     "name": "stdout",
     "output_type": "stream",
     "text": [
      "FcNet(\n",
      "  (fc1): Linear(in_features=3072, out_features=1024, bias=True)\n",
      "  (fc2): Linear(in_features=1024, out_features=400, bias=True)\n",
      "  (fc3): Linear(in_features=400, out_features=84, bias=True)\n",
      "  (fc4): Linear(in_features=84, out_features=10, bias=True)\n",
      "  (relu): ReLU()\n",
      ")\n",
      "Epoch 0/2\n",
      "----------\n",
      "train Loss: 1.6898 Acc: 0.3974\n",
      "Epoch 1/2\n",
      "----------\n",
      "train Loss: 1.4402 Acc: 0.4864\n",
      "Epoch 2/2\n",
      "----------\n",
      "train Loss: 1.3386 Acc: 0.5232\n",
      "Training complete in 9m 2s\n",
      "test Acc: 0.5283\n",
      "Testing complete in 0m 15s\n"
     ]
    }
   ],
   "source": [
    "# 1) Define a Fully Connected Neural Network\n",
    "# Please advise the Pytorch Documentation and use the appropiate calls\n",
    "\n",
    "class FcNet(nn.Module):\n",
    "    def __init__(self):\n",
    "        super(FcNet, self).__init__()\n",
    "        # TODO Task 2:  Define the layers \n",
    "        self.fc1 = nn.Linear(in_features=3072, out_features=1024, bias=True)\n",
    "        self.fc2 = nn.Linear(in_features=1024, out_features=400, bias=True)\n",
    "        self.fc3 = nn.Linear(in_features=400, out_features=84, bias=True)\n",
    "        self.fc4 = nn.Linear(in_features=84, out_features=10, bias=True)\n",
    "        self.relu = nn.ReLU()\n",
    "\n",
    "    def forward(self, x):\n",
    "        # TODO Task 2:  Define the forward pass\n",
    "        x = x.view(x.size(0), -1)\n",
    "        x = self.relu(self.fc1(x))\n",
    "        x = self.relu(self.fc2(x))\n",
    "        x = self.relu(self.fc3(x))\n",
    "        x = self.fc4(x)\n",
    "        return x\n",
    "\n",
    "model_ft = FcNet() #Define the model\n",
    "model_ft = model_ft.to(device) \n",
    "print(model_ft, device)\n",
    "\n",
    "# TODO Task 2:  Define loss criterion - cross entropy loss\n",
    "criterion = F.cross_entropy\n",
    "\n",
    "# TODO Task 2:  Define Optimizer\n",
    "optimizer = optim.SGD(model_ft.parameters(), lr=0.001, momentum=0.9)\n",
    "\n",
    "# TODO Task 2:  Train the model\n",
    "model_train = train_model(model_ft, criterion, optimizer, num_epochs=3, save_path='saved_FcNet_weight.pth')\n",
    "\n",
    "# TODO Task 2:  Test the model\n",
    "model_test = test_model(model_ft, load_path='saved_FcNet_weight.pth')"
   ]
  },
  {
   "cell_type": "markdown",
   "metadata": {
    "id": "kFQdcJaKFF8y"
   },
   "source": [
    "### 2) CNN"
   ]
  },
  {
   "cell_type": "code",
   "execution_count": 7,
   "metadata": {
    "id": "ma36XwVfVO9h"
   },
   "outputs": [
    {
     "name": "stdout",
     "output_type": "stream",
     "text": [
      "ConvNet(\n",
      "  (conv1): Conv2d(3, 6, kernel_size=(5, 5), stride=(1, 1))\n",
      "  (pool): MaxPool2d(kernel_size=2, stride=2, padding=0, dilation=1, ceil_mode=False)\n",
      "  (conv2): Conv2d(6, 16, kernel_size=(5, 5), stride=(1, 1))\n",
      "  (fc1): Linear(in_features=400, out_features=120, bias=True)\n",
      "  (fc2): Linear(in_features=120, out_features=84, bias=True)\n",
      "  (fc3): Linear(in_features=84, out_features=10, bias=True)\n",
      "  (relu): ReLU()\n",
      ")\n",
      "Epoch 0/2\n",
      "----------\n",
      "train Loss: 1.7667 Acc: 0.3501\n",
      "Epoch 1/2\n",
      "----------\n",
      "train Loss: 1.3677 Acc: 0.5044\n",
      "Epoch 2/2\n",
      "----------\n",
      "train Loss: 1.2427 Acc: 0.5558\n",
      "Training complete in 4m 38s\n",
      "test Acc: 0.5674\n",
      "Testing complete in 0m 16s\n"
     ]
    }
   ],
   "source": [
    "# 2) Define a Convolutional Neural Network\n",
    "class ConvNet(nn.Module):\n",
    "    def __init__(self):\n",
    "        super(ConvNet, self).__init__()\n",
    "        # TODO Task 2:  Define the CNN layers \n",
    "        self.conv1 = nn.Conv2d(3, 6, kernel_size=(5, 5), stride=(1, 1))\n",
    "        self.pool = nn.MaxPool2d(kernel_size=2, stride=2, padding=0, dilation=1, ceil_mode=False)\n",
    "        self.conv2 = nn.Conv2d(6, 16, kernel_size=(5, 5), stride=(1, 1))\n",
    "        self.fc1 = nn.Linear(in_features=400, out_features=120, bias=True)\n",
    "        self.fc2 = nn.Linear(in_features=120, out_features=84, bias=True)\n",
    "        self.fc3 = nn.Linear(in_features=84, out_features=10, bias=True)\n",
    "        self.relu = nn.ReLU()\n",
    "\n",
    "    def forward(self, x):\n",
    "        # TODO Task 2:  Define the forward pass\n",
    "        x = self.pool(self.relu(self.conv1(x)))\n",
    "        x = self.pool(self.relu(self.conv2(x)))\n",
    "        x = x.view(-1, 400)\n",
    "        x = self.relu(self.fc1(x))\n",
    "        x = self.relu(self.fc2(x))\n",
    "        x = self.fc3(x)\n",
    "        return x\n",
    "\n",
    "model_ft = ConvNet() #Define the model\n",
    "model_ft = model_ft.to(device)\n",
    "print(model_ft, device)\n",
    "\n",
    "# TODO Task 2:  Define loss criterion - cross entropy loss\n",
    "criterion = F.cross_entropy\n",
    "\n",
    "# TODO Task 2:  Define Optimizer\n",
    "optimizer = optim.SGD(model_ft.parameters(), lr=0.001, momentum=0.9)\n",
    "\n",
    "# TODO Task 2:  Train the model\n",
    "model_train = train_model(model_ft, criterion, optimizer, num_epochs=3, save_path='saved_CNNNet_weight.pth')\n",
    "\n",
    "# TODO Task 2:  Test the model\n",
    "model_test = test_model(model_ft, load_path='saved_CNNNet_weight.pth')"
   ]
  },
  {
   "cell_type": "markdown",
   "metadata": {
    "id": "NMAIB0f8VO9M"
   },
   "source": [
    "## Task 3.A: Design Your Network (30 points)\n",
    "Define your own Convolutional Network (MyNet) based on the [ResNet paper](https://arxiv.org/pdf/1512.03385.pdf) architecture (see Sec. 4.2 for the original architecture used). Here we will experiment with different configurations. Add following modifications and train the Network for **25** epoches. Keep the best settings for each step (for each step, record the training accuracy of the last epoch and test accuracy in your report):\n",
    "\n",
    "- Modify the number of ResNet blocks per layer: For Simplicity, implement a three-layered ResNet architecture. For each layer, try 1 , 2 and 3 number of ResNet blocks (3 configurations in total). You can choose any of the downsampling methods to match the tensor sizes wherever necessary. Use 2D average pooling layer before applying the final linear layer. For the three layers keep the number of filters 16, 32 and 64 respectively. Follow the ResNet paper to select the kernel size, paddings, optimizer/learning rate, strides, activations and **Batch Normalization** (select a suitable batch size) layers for this task. Print the model summary of the selected model.\n",
    "\n",
    "#### *Bonus Points: Define a validation set within the training set to monitor underfitting/overfitting after every epoch for each task. (Hint modify dataloaders and/or train_model function) "
   ]
  },
  {
   "cell_type": "markdown",
   "metadata": {},
   "source": [
    "### Design Your Network"
   ]
  },
  {
   "cell_type": "code",
   "execution_count": 8,
   "metadata": {},
   "outputs": [],
   "source": [
    "# Task 3.A: Configuration 1\n",
    "from types import SimpleNamespace\n",
    "\n",
    "class MyNet(nn.Module):\n",
    "    def __init__(self, num_classes=10, num_blocks=[3,3,3], c_hidden=[16,32,64], **kwargs):\n",
    "        super(MyNet, self).__init__()\n",
    "        # TODO Task 3: Design Your Network\n",
    "        self.hparams = SimpleNamespace(num_classes=num_classes, \n",
    "                                       c_hidden=c_hidden, \n",
    "                                       num_blocks=num_blocks,\n",
    "                                       act_fn=nn.ReLU,\n",
    "                                       block_class=ResNetBlock)\n",
    "        self._create_network()\n",
    "        self._init_params()\n",
    "\n",
    "    def _create_network(self):\n",
    "        c_hidden = self.hparams.c_hidden\n",
    "        \n",
    "        # A first convolution on the original image to scale up the channel size\n",
    "        self.input_net = nn.Sequential(\n",
    "            nn.Conv2d(3, c_hidden[0], kernel_size=3, padding=1, bias=False),\n",
    "            nn.BatchNorm2d(c_hidden[0]),\n",
    "            self.hparams.act_fn()\n",
    "        )\n",
    "        \n",
    "        # Creating the ResNet blocks\n",
    "        blocks = []\n",
    "        for block_idx, block_count in enumerate(self.hparams.num_blocks):\n",
    "            for bc in range(block_count):\n",
    "                subsample = (bc == 0 and block_idx > 0) # Subsample the first block of each group, except the very first one.\n",
    "                blocks.append(\n",
    "                    self.hparams.block_class(c_in=c_hidden[block_idx if not subsample else (block_idx-1)],\n",
    "                                             act_fn=self.hparams.act_fn,\n",
    "                                             subsample=subsample,\n",
    "                                             c_out=c_hidden[block_idx])\n",
    "                )\n",
    "        self.blocks = nn.Sequential(*blocks)\n",
    "        \n",
    "        # Mapping to classification output\n",
    "        self.output_net = nn.Sequential(\n",
    "            nn.AdaptiveAvgPool2d((1,1)),\n",
    "            nn.Flatten(),\n",
    "            nn.Linear(c_hidden[-1], self.hparams.num_classes)\n",
    "        )\n",
    "\n",
    "    def _init_params(self):\n",
    "        # Initialize the convolutions according to the activation function\n",
    "        # Fan-out focuses on the gradient distribution, and is commonly used in ResNets\n",
    "        for m in self.modules():\n",
    "            if isinstance(m, nn.Conv2d):\n",
    "                nn.init.kaiming_normal_(m.weight, mode='fan_out', nonlinearity=\"relu\")\n",
    "            elif isinstance(m, nn.BatchNorm2d):\n",
    "                nn.init.constant_(m.weight, 1)\n",
    "                nn.init.constant_(m.bias, 0)\n",
    "\n",
    "    def forward(self, x):\n",
    "        # TODO Task 3: Design Your Network\n",
    "        x = self.input_net(x)\n",
    "        x = self.blocks(x)\n",
    "        x = self.output_net(x)\n",
    "        return x"
   ]
  },
  {
   "cell_type": "code",
   "execution_count": 9,
   "metadata": {},
   "outputs": [],
   "source": [
    "# Task 3.A: Configuration 2\n",
    "class ResNetBlock(nn.Module):\n",
    "    def __init__(self, c_in, act_fn, subsample=False, c_out=-1):\n",
    "        \"\"\"\n",
    "        Inputs:\n",
    "            c_in - Number of input features\n",
    "            act_fn - Activation class constructor (e.g. nn.ReLU)\n",
    "            subsample - If True, we want to apply a stride inside the block and reduce the output shape by 2 in height and width\n",
    "            c_out - Number of output features. Note that this is only relevant if subsample is True, as otherwise, c_out = c_in\n",
    "        \"\"\"\n",
    "        super().__init__()\n",
    "        if not subsample:\n",
    "            c_out = c_in\n",
    "            \n",
    "        # Network representing F\n",
    "        self.net = nn.Sequential(\n",
    "            nn.Conv2d(c_in, c_out, kernel_size=3, padding=1, stride=1 if not subsample else 2, bias=False),  # No bias needed as the Batch Norm handles it\n",
    "            nn.BatchNorm2d(c_out),\n",
    "            act_fn(),\n",
    "            nn.Conv2d(c_out, c_out, kernel_size=3, padding=1, bias=False),\n",
    "            nn.BatchNorm2d(c_out)\n",
    "        )\n",
    "        \n",
    "        # 1x1 convolution with stride 2 means we take the upper left value, and transform it to new output size\n",
    "        self.downsample = nn.Conv2d(c_in, c_out, kernel_size=1, stride=2) if subsample else None\n",
    "        self.act_fn = act_fn()\n",
    "\n",
    "    def forward(self, x):\n",
    "        z = self.net(x)\n",
    "        if self.downsample is not None:\n",
    "            x = self.downsample(x)\n",
    "        out = z + x\n",
    "        out = self.act_fn(out)\n",
    "        return out"
   ]
  },
  {
   "cell_type": "code",
   "execution_count": 80,
   "metadata": {},
   "outputs": [
    {
     "name": "stdout",
     "output_type": "stream",
     "text": [
      "cuda:0\n"
     ]
    }
   ],
   "source": [
    "# Task 3.A: Configuration 3\n",
    "\n",
    "criterion = nn.CrossEntropyLoss()\n",
    "print(device)\n",
    "\n",
    "dataloaders = {x: torch.utils.data.DataLoader(image_datasets[x], batch_size=128, shuffle=(x=='train'), num_workers=4) for x in ['train', 'test']}\n",
    "\n",
    "def train_model_2(model, criterion, optimizer, num_epochs=25, save_path='saved_weight.pth', is_print=True):\n",
    "    since = time.time()\n",
    "    train_losses = []\n",
    "    for epoch in range(num_epochs):\n",
    "        if is_print:\n",
    "            print('Epoch {}/{}'.format(epoch, num_epochs - 1))\n",
    "            print('-' * 10)\n",
    "\n",
    "        # Each epoch has a training and validation phase\n",
    "        for phase in ['train']:\n",
    "            if phase == 'train': model.train()  # Set model to training mode\n",
    "\n",
    "            running_loss = 0.0\n",
    "            running_corrects = 0\n",
    "\n",
    "            # Iterate over data.\n",
    "            for inputs, labels in dataloaders[phase]:\n",
    "                inputs = inputs.to(device)\n",
    "                labels = labels.to(device)\n",
    "\n",
    "                # zero the parameter gradients\n",
    "                optimizer.zero_grad()\n",
    "\n",
    "                # forward\n",
    "                # track history if only in train\n",
    "                with torch.set_grad_enabled(phase == 'train'):\n",
    "                    outputs = model(inputs)\n",
    "                    _, preds = torch.max(outputs, 1)\n",
    "                    loss = criterion(outputs, labels)\n",
    "\n",
    "                    # backward + optimize only if in training phase\n",
    "                    if phase == 'train':\n",
    "                        loss.backward()\n",
    "                        optimizer.step()\n",
    "\n",
    "                # statistics\n",
    "                running_loss += loss.item() * inputs.size(0)\n",
    "                running_corrects += torch.sum(preds == labels.data)\n",
    "\n",
    "            epoch_loss = running_loss / dataset_sizes[phase]\n",
    "            epoch_acc = running_corrects.double() / dataset_sizes[phase]\n",
    "            train_losses.append(epoch_loss)\n",
    "\n",
    "            if is_print:\n",
    "                print('{} Loss: {:.4f} Acc: {:.4f}'.format(phase, epoch_loss, epoch_acc))\n",
    "\n",
    "    time_elapsed = time.time() - since\n",
    "    print('Training complete in {:.0f}m {:.0f}s'.format(time_elapsed // 60, time_elapsed % 60))\n",
    "\n",
    "    torch.save(model.state_dict(), save_path)\n",
    "    return model, train_losses\n",
    "\n",
    "def train_MyNet(i):## choose num_block=1,2,3\n",
    "    model = MyNet(num_blocks=[0,i,i]).to(device)\n",
    "    #print(model.parameters)\n",
    "    optimizer = optim.SGD(model.parameters(), lr=0.1, momentum=0.9, weight_decay=1e-4)\n",
    "\n",
    "    name = 'saved_ResNet_Block'+str(i)+'_weight.pth'\n",
    "    model_train, train_loss = train_model_2(model, criterion, optimizer, num_epochs=25, save_path=name)\n",
    "    model_test = test_model(model, load_path=name)"
   ]
  },
  {
   "cell_type": "code",
   "execution_count": 157,
   "metadata": {},
   "outputs": [
    {
     "name": "stdout",
     "output_type": "stream",
     "text": [
      "<bound method Module.parameters of MyNet(\n",
      "  (input_net): Sequential(\n",
      "    (0): Conv2d(3, 16, kernel_size=(3, 3), stride=(1, 1), padding=(1, 1), bias=False)\n",
      "    (1): BatchNorm2d(16, eps=1e-05, momentum=0.1, affine=True, track_running_stats=True)\n",
      "    (2): ReLU()\n",
      "  )\n",
      "  (blocks): Sequential(\n",
      "    (0): ResNetBlock(\n",
      "      (net): Sequential(\n",
      "        (0): Conv2d(16, 16, kernel_size=(3, 3), stride=(1, 1), padding=(1, 1), bias=False)\n",
      "        (1): BatchNorm2d(16, eps=1e-05, momentum=0.1, affine=True, track_running_stats=True)\n",
      "        (2): ReLU()\n",
      "        (3): Conv2d(16, 16, kernel_size=(3, 3), stride=(1, 1), padding=(1, 1), bias=False)\n",
      "        (4): BatchNorm2d(16, eps=1e-05, momentum=0.1, affine=True, track_running_stats=True)\n",
      "      )\n",
      "      (act_fn): ReLU()\n",
      "    )\n",
      "    (1): ResNetBlock(\n",
      "      (net): Sequential(\n",
      "        (0): Conv2d(16, 16, kernel_size=(3, 3), stride=(1, 1), padding=(1, 1), bias=False)\n",
      "        (1): BatchNorm2d(16, eps=1e-05, momentum=0.1, affine=True, track_running_stats=True)\n",
      "        (2): ReLU()\n",
      "        (3): Conv2d(16, 16, kernel_size=(3, 3), stride=(1, 1), padding=(1, 1), bias=False)\n",
      "        (4): BatchNorm2d(16, eps=1e-05, momentum=0.1, affine=True, track_running_stats=True)\n",
      "      )\n",
      "      (act_fn): ReLU()\n",
      "    )\n",
      "    (2): ResNetBlock(\n",
      "      (net): Sequential(\n",
      "        (0): Conv2d(16, 16, kernel_size=(3, 3), stride=(1, 1), padding=(1, 1), bias=False)\n",
      "        (1): BatchNorm2d(16, eps=1e-05, momentum=0.1, affine=True, track_running_stats=True)\n",
      "        (2): ReLU()\n",
      "        (3): Conv2d(16, 16, kernel_size=(3, 3), stride=(1, 1), padding=(1, 1), bias=False)\n",
      "        (4): BatchNorm2d(16, eps=1e-05, momentum=0.1, affine=True, track_running_stats=True)\n",
      "      )\n",
      "      (act_fn): ReLU()\n",
      "    )\n",
      "    (3): ResNetBlock(\n",
      "      (net): Sequential(\n",
      "        (0): Conv2d(16, 32, kernel_size=(3, 3), stride=(2, 2), padding=(1, 1), bias=False)\n",
      "        (1): BatchNorm2d(32, eps=1e-05, momentum=0.1, affine=True, track_running_stats=True)\n",
      "        (2): ReLU()\n",
      "        (3): Conv2d(32, 32, kernel_size=(3, 3), stride=(1, 1), padding=(1, 1), bias=False)\n",
      "        (4): BatchNorm2d(32, eps=1e-05, momentum=0.1, affine=True, track_running_stats=True)\n",
      "      )\n",
      "      (downsample): Conv2d(16, 32, kernel_size=(1, 1), stride=(2, 2))\n",
      "      (act_fn): ReLU()\n",
      "    )\n",
      "    (4): ResNetBlock(\n",
      "      (net): Sequential(\n",
      "        (0): Conv2d(32, 32, kernel_size=(3, 3), stride=(1, 1), padding=(1, 1), bias=False)\n",
      "        (1): BatchNorm2d(32, eps=1e-05, momentum=0.1, affine=True, track_running_stats=True)\n",
      "        (2): ReLU()\n",
      "        (3): Conv2d(32, 32, kernel_size=(3, 3), stride=(1, 1), padding=(1, 1), bias=False)\n",
      "        (4): BatchNorm2d(32, eps=1e-05, momentum=0.1, affine=True, track_running_stats=True)\n",
      "      )\n",
      "      (act_fn): ReLU()\n",
      "    )\n",
      "    (5): ResNetBlock(\n",
      "      (net): Sequential(\n",
      "        (0): Conv2d(32, 32, kernel_size=(3, 3), stride=(1, 1), padding=(1, 1), bias=False)\n",
      "        (1): BatchNorm2d(32, eps=1e-05, momentum=0.1, affine=True, track_running_stats=True)\n",
      "        (2): ReLU()\n",
      "        (3): Conv2d(32, 32, kernel_size=(3, 3), stride=(1, 1), padding=(1, 1), bias=False)\n",
      "        (4): BatchNorm2d(32, eps=1e-05, momentum=0.1, affine=True, track_running_stats=True)\n",
      "      )\n",
      "      (act_fn): ReLU()\n",
      "    )\n",
      "    (6): ResNetBlock(\n",
      "      (net): Sequential(\n",
      "        (0): Conv2d(32, 64, kernel_size=(3, 3), stride=(2, 2), padding=(1, 1), bias=False)\n",
      "        (1): BatchNorm2d(64, eps=1e-05, momentum=0.1, affine=True, track_running_stats=True)\n",
      "        (2): ReLU()\n",
      "        (3): Conv2d(64, 64, kernel_size=(3, 3), stride=(1, 1), padding=(1, 1), bias=False)\n",
      "        (4): BatchNorm2d(64, eps=1e-05, momentum=0.1, affine=True, track_running_stats=True)\n",
      "      )\n",
      "      (downsample): Conv2d(32, 64, kernel_size=(1, 1), stride=(2, 2))\n",
      "      (act_fn): ReLU()\n",
      "    )\n",
      "    (7): ResNetBlock(\n",
      "      (net): Sequential(\n",
      "        (0): Conv2d(64, 64, kernel_size=(3, 3), stride=(1, 1), padding=(1, 1), bias=False)\n",
      "        (1): BatchNorm2d(64, eps=1e-05, momentum=0.1, affine=True, track_running_stats=True)\n",
      "        (2): ReLU()\n",
      "        (3): Conv2d(64, 64, kernel_size=(3, 3), stride=(1, 1), padding=(1, 1), bias=False)\n",
      "        (4): BatchNorm2d(64, eps=1e-05, momentum=0.1, affine=True, track_running_stats=True)\n",
      "      )\n",
      "      (act_fn): ReLU()\n",
      "    )\n",
      "    (8): ResNetBlock(\n",
      "      (net): Sequential(\n",
      "        (0): Conv2d(64, 64, kernel_size=(3, 3), stride=(1, 1), padding=(1, 1), bias=False)\n",
      "        (1): BatchNorm2d(64, eps=1e-05, momentum=0.1, affine=True, track_running_stats=True)\n",
      "        (2): ReLU()\n",
      "        (3): Conv2d(64, 64, kernel_size=(3, 3), stride=(1, 1), padding=(1, 1), bias=False)\n",
      "        (4): BatchNorm2d(64, eps=1e-05, momentum=0.1, affine=True, track_running_stats=True)\n",
      "      )\n",
      "      (act_fn): ReLU()\n",
      "    )\n",
      "  )\n",
      "  (output_net): Sequential(\n",
      "    (0): AdaptiveAvgPool2d(output_size=(1, 1))\n",
      "    (1): Flatten(start_dim=1, end_dim=-1)\n",
      "    (2): Dropout(p=0.5, inplace=False)\n",
      "    (3): Linear(in_features=64, out_features=10, bias=True)\n",
      "  )\n",
      ")>\n"
     ]
    }
   ],
   "source": [
    "model = MyNet(num_blocks=[3,3,3], c_hidden=[16,32,64]).to(device)\n",
    "print(model.parameters)"
   ]
  },
  {
   "cell_type": "code",
   "execution_count": 26,
   "metadata": {},
   "outputs": [
    {
     "name": "stdout",
     "output_type": "stream",
     "text": [
      "Epoch 0/24\n",
      "----------\n",
      "train Loss: 1.5010 Acc: 0.4465\n",
      "Epoch 1/24\n",
      "----------\n",
      "train Loss: 1.0919 Acc: 0.6094\n",
      "Epoch 2/24\n",
      "----------\n",
      "train Loss: 0.9316 Acc: 0.6706\n",
      "Epoch 3/24\n",
      "----------\n",
      "train Loss: 0.8350 Acc: 0.7041\n",
      "Epoch 4/24\n",
      "----------\n",
      "train Loss: 0.7679 Acc: 0.7259\n",
      "Epoch 5/24\n",
      "----------\n",
      "train Loss: 0.7249 Acc: 0.7451\n",
      "Epoch 6/24\n",
      "----------\n",
      "train Loss: 0.6771 Acc: 0.7639\n",
      "Epoch 7/24\n",
      "----------\n",
      "train Loss: 0.6408 Acc: 0.7755\n",
      "Epoch 8/24\n",
      "----------\n",
      "train Loss: 0.6117 Acc: 0.7861\n",
      "Epoch 9/24\n",
      "----------\n",
      "train Loss: 0.5876 Acc: 0.7969\n",
      "Epoch 10/24\n",
      "----------\n",
      "train Loss: 0.5673 Acc: 0.8014\n",
      "Epoch 11/24\n",
      "----------\n",
      "train Loss: 0.5466 Acc: 0.8090\n",
      "Epoch 12/24\n",
      "----------\n",
      "train Loss: 0.5289 Acc: 0.8163\n",
      "Epoch 13/24\n",
      "----------\n",
      "train Loss: 0.5178 Acc: 0.8194\n",
      "Epoch 14/24\n",
      "----------\n",
      "train Loss: 0.4995 Acc: 0.8259\n",
      "Epoch 15/24\n",
      "----------\n",
      "train Loss: 0.4921 Acc: 0.8290\n",
      "Epoch 16/24\n",
      "----------\n",
      "train Loss: 0.4776 Acc: 0.8326\n",
      "Epoch 17/24\n",
      "----------\n",
      "train Loss: 0.4673 Acc: 0.8379\n",
      "Epoch 18/24\n",
      "----------\n",
      "train Loss: 0.4597 Acc: 0.8395\n",
      "Epoch 19/24\n",
      "----------\n",
      "train Loss: 0.4579 Acc: 0.8408\n",
      "Epoch 20/24\n",
      "----------\n",
      "train Loss: 0.4444 Acc: 0.8463\n",
      "Epoch 21/24\n",
      "----------\n",
      "train Loss: 0.4344 Acc: 0.8490\n",
      "Epoch 22/24\n",
      "----------\n",
      "train Loss: 0.4270 Acc: 0.8533\n",
      "Epoch 23/24\n",
      "----------\n",
      "train Loss: 0.4259 Acc: 0.8523\n",
      "Epoch 24/24\n",
      "----------\n",
      "train Loss: 0.4144 Acc: 0.8558\n",
      "Training complete in 5m 27s\n",
      "test Acc: 0.7650\n",
      "Testing complete in 0m 9s\n"
     ]
    }
   ],
   "source": [
    "train_MyNet(1) ## each layer has 1 block ## final test accuracy = 0.7650"
   ]
  },
  {
   "cell_type": "code",
   "execution_count": 27,
   "metadata": {},
   "outputs": [
    {
     "name": "stdout",
     "output_type": "stream",
     "text": [
      "Epoch 0/24\n",
      "----------\n",
      "train Loss: 1.4867 Acc: 0.4491\n",
      "Epoch 1/24\n",
      "----------\n",
      "train Loss: 1.0277 Acc: 0.6301\n",
      "Epoch 2/24\n",
      "----------\n",
      "train Loss: 0.8229 Acc: 0.7085\n",
      "Epoch 3/24\n",
      "----------\n",
      "train Loss: 0.7131 Acc: 0.7491\n",
      "Epoch 4/24\n",
      "----------\n",
      "train Loss: 0.6433 Acc: 0.7747\n",
      "Epoch 5/24\n",
      "----------\n",
      "train Loss: 0.5829 Acc: 0.7972\n",
      "Epoch 6/24\n",
      "----------\n",
      "train Loss: 0.5461 Acc: 0.8126\n",
      "Epoch 7/24\n",
      "----------\n",
      "train Loss: 0.5159 Acc: 0.8203\n",
      "Epoch 8/24\n",
      "----------\n",
      "train Loss: 0.4878 Acc: 0.8309\n",
      "Epoch 9/24\n",
      "----------\n",
      "train Loss: 0.4593 Acc: 0.8410\n",
      "Epoch 10/24\n",
      "----------\n",
      "train Loss: 0.4424 Acc: 0.8459\n",
      "Epoch 11/24\n",
      "----------\n",
      "train Loss: 0.4301 Acc: 0.8502\n",
      "Epoch 12/24\n",
      "----------\n",
      "train Loss: 0.4123 Acc: 0.8561\n",
      "Epoch 13/24\n",
      "----------\n",
      "train Loss: 0.4006 Acc: 0.8601\n",
      "Epoch 14/24\n",
      "----------\n",
      "train Loss: 0.3841 Acc: 0.8670\n",
      "Epoch 15/24\n",
      "----------\n",
      "train Loss: 0.3763 Acc: 0.8694\n",
      "Epoch 16/24\n",
      "----------\n",
      "train Loss: 0.3642 Acc: 0.8725\n",
      "Epoch 17/24\n",
      "----------\n",
      "train Loss: 0.3547 Acc: 0.8760\n",
      "Epoch 18/24\n",
      "----------\n",
      "train Loss: 0.3429 Acc: 0.8785\n",
      "Epoch 19/24\n",
      "----------\n",
      "train Loss: 0.3396 Acc: 0.8806\n",
      "Epoch 20/24\n",
      "----------\n",
      "train Loss: 0.3318 Acc: 0.8832\n",
      "Epoch 21/24\n",
      "----------\n",
      "train Loss: 0.3256 Acc: 0.8854\n",
      "Epoch 22/24\n",
      "----------\n",
      "train Loss: 0.3179 Acc: 0.8874\n",
      "Epoch 23/24\n",
      "----------\n",
      "train Loss: 0.3110 Acc: 0.8902\n",
      "Epoch 24/24\n",
      "----------\n",
      "train Loss: 0.3081 Acc: 0.8905\n",
      "Training complete in 5m 29s\n",
      "test Acc: 0.8096\n",
      "Testing complete in 0m 9s\n"
     ]
    }
   ],
   "source": [
    "train_MyNet(2) ## each layer has 2 block ## final test accuracy = 0.8096"
   ]
  },
  {
   "cell_type": "code",
   "execution_count": 28,
   "metadata": {
    "scrolled": true
   },
   "outputs": [
    {
     "name": "stdout",
     "output_type": "stream",
     "text": [
      "Epoch 0/24\n",
      "----------\n",
      "train Loss: 1.4703 Acc: 0.4563\n",
      "Epoch 1/24\n",
      "----------\n",
      "train Loss: 1.0011 Acc: 0.6406\n",
      "Epoch 2/24\n",
      "----------\n",
      "train Loss: 0.8011 Acc: 0.7189\n",
      "Epoch 3/24\n",
      "----------\n",
      "train Loss: 0.6978 Acc: 0.7559\n",
      "Epoch 4/24\n",
      "----------\n",
      "train Loss: 0.6238 Acc: 0.7835\n",
      "Epoch 5/24\n",
      "----------\n",
      "train Loss: 0.5726 Acc: 0.8008\n",
      "Epoch 6/24\n",
      "----------\n",
      "train Loss: 0.5300 Acc: 0.8161\n",
      "Epoch 7/24\n",
      "----------\n",
      "train Loss: 0.5002 Acc: 0.8251\n",
      "Epoch 8/24\n",
      "----------\n",
      "train Loss: 0.4733 Acc: 0.8356\n",
      "Epoch 9/24\n",
      "----------\n",
      "train Loss: 0.4514 Acc: 0.8426\n",
      "Epoch 10/24\n",
      "----------\n",
      "train Loss: 0.4312 Acc: 0.8490\n",
      "Epoch 11/24\n",
      "----------\n",
      "train Loss: 0.4107 Acc: 0.8558\n",
      "Epoch 12/24\n",
      "----------\n",
      "train Loss: 0.3947 Acc: 0.8630\n",
      "Epoch 13/24\n",
      "----------\n",
      "train Loss: 0.3799 Acc: 0.8671\n",
      "Epoch 14/24\n",
      "----------\n",
      "train Loss: 0.3617 Acc: 0.8730\n",
      "Epoch 15/24\n",
      "----------\n",
      "train Loss: 0.3583 Acc: 0.8751\n",
      "Epoch 16/24\n",
      "----------\n",
      "train Loss: 0.3427 Acc: 0.8801\n",
      "Epoch 17/24\n",
      "----------\n",
      "train Loss: 0.3268 Acc: 0.8850\n",
      "Epoch 18/24\n",
      "----------\n",
      "train Loss: 0.3196 Acc: 0.8881\n",
      "Epoch 19/24\n",
      "----------\n",
      "train Loss: 0.3157 Acc: 0.8878\n",
      "Epoch 20/24\n",
      "----------\n",
      "train Loss: 0.3024 Acc: 0.8927\n",
      "Epoch 21/24\n",
      "----------\n",
      "train Loss: 0.2950 Acc: 0.8953\n",
      "Epoch 22/24\n",
      "----------\n",
      "train Loss: 0.2875 Acc: 0.8989\n",
      "Epoch 23/24\n",
      "----------\n",
      "train Loss: 0.2882 Acc: 0.8981\n",
      "Epoch 24/24\n",
      "----------\n",
      "train Loss: 0.2837 Acc: 0.8998\n",
      "Training complete in 5m 47s\n",
      "test Acc: 0.8173\n",
      "Testing complete in 0m 9s\n"
     ]
    }
   ],
   "source": [
    "train_MyNet(3) ## each layer has 3 block ## final test accuracy = 0.8173"
   ]
  },
  {
   "cell_type": "markdown",
   "metadata": {},
   "source": [
    "## Task 3.B: Design Your Network (10 points)\n",
    "Using your best network/model from Task 3.A, please do the following modifications:\n",
    "\n",
    "- Use Dropout: Toggle **Dropout** in fully connected layers. Does it improve the validation/test accuracy and/or avoid overfitting?"
   ]
  },
  {
   "cell_type": "code",
   "execution_count": 81,
   "metadata": {},
   "outputs": [
    {
     "name": "stdout",
     "output_type": "stream",
     "text": [
      "Epoch 0/24\n",
      "----------\n",
      "train Loss: 1.7041 Acc: 0.3503\n",
      "Epoch 1/24\n",
      "----------\n",
      "train Loss: 1.2882 Acc: 0.5313\n",
      "Epoch 2/24\n",
      "----------\n",
      "train Loss: 1.0596 Acc: 0.6247\n",
      "Epoch 3/24\n",
      "----------\n",
      "train Loss: 0.9236 Acc: 0.6838\n",
      "Epoch 4/24\n",
      "----------\n",
      "train Loss: 0.8298 Acc: 0.7191\n",
      "Epoch 5/24\n",
      "----------\n",
      "train Loss: 0.7597 Acc: 0.7464\n",
      "Epoch 6/24\n",
      "----------\n",
      "train Loss: 0.7032 Acc: 0.7682\n",
      "Epoch 7/24\n",
      "----------\n",
      "train Loss: 0.6609 Acc: 0.7808\n",
      "Epoch 8/24\n",
      "----------\n",
      "train Loss: 0.6349 Acc: 0.7900\n",
      "Epoch 9/24\n",
      "----------\n",
      "train Loss: 0.5962 Acc: 0.8044\n",
      "Epoch 10/24\n",
      "----------\n",
      "train Loss: 0.5790 Acc: 0.8090\n",
      "Epoch 11/24\n",
      "----------\n",
      "train Loss: 0.5551 Acc: 0.8177\n",
      "Epoch 12/24\n",
      "----------\n",
      "train Loss: 0.5401 Acc: 0.8221\n",
      "Epoch 13/24\n",
      "----------\n",
      "train Loss: 0.5208 Acc: 0.8272\n",
      "Epoch 14/24\n",
      "----------\n",
      "train Loss: 0.5064 Acc: 0.8345\n",
      "Epoch 15/24\n",
      "----------\n",
      "train Loss: 0.4879 Acc: 0.8388\n",
      "Epoch 16/24\n",
      "----------\n",
      "train Loss: 0.4765 Acc: 0.8440\n",
      "Epoch 17/24\n",
      "----------\n",
      "train Loss: 0.4613 Acc: 0.8480\n",
      "Epoch 18/24\n",
      "----------\n",
      "train Loss: 0.4573 Acc: 0.8526\n",
      "Epoch 19/24\n",
      "----------\n",
      "train Loss: 0.4424 Acc: 0.8568\n",
      "Epoch 20/24\n",
      "----------\n",
      "train Loss: 0.4349 Acc: 0.8564\n",
      "Epoch 21/24\n",
      "----------\n",
      "train Loss: 0.4230 Acc: 0.8614\n",
      "Epoch 22/24\n",
      "----------\n",
      "train Loss: 0.4239 Acc: 0.8613\n",
      "Epoch 23/24\n",
      "----------\n",
      "train Loss: 0.4141 Acc: 0.8644\n",
      "Epoch 24/24\n",
      "----------\n",
      "train Loss: 0.4055 Acc: 0.8680\n",
      "Training complete in 5m 46s\n",
      "test Acc: 0.8265\n",
      "Testing complete in 0m 9s\n"
     ]
    }
   ],
   "source": [
    "# Task 3.B: Using Dropout\n",
    "class MyNet(nn.Module):\n",
    "    def __init__(self, num_classes=10, num_blocks=[3,3,3], c_hidden=[16,32,64], dropout_rate=0.5, **kwargs):##dropout_rate is newly added\n",
    "        super(MyNet, self).__init__()\n",
    "        # TODO Task 3: Design Your Network\n",
    "        self.hparams = SimpleNamespace(num_classes=num_classes, \n",
    "                                       c_hidden=c_hidden, \n",
    "                                       num_blocks=num_blocks,\n",
    "                                       act_fn=nn.ReLU,\n",
    "                                       block_class=ResNetBlock)\n",
    "\n",
    "        self.dropout_rate = dropout_rate ##newly added\n",
    "        self._create_network()\n",
    "        self._init_params()\n",
    "\n",
    "    def _create_network(self):\n",
    "        c_hidden = self.hparams.c_hidden\n",
    "\n",
    "        self.input_net = nn.Sequential(\n",
    "            nn.Conv2d(3, c_hidden[0], kernel_size=3, padding=1, bias=False),\n",
    "            nn.BatchNorm2d(c_hidden[0]),\n",
    "            self.hparams.act_fn()\n",
    "        )\n",
    "        \n",
    "        # Creating the ResNet blocks\n",
    "        blocks = []\n",
    "        for block_idx, block_count in enumerate(self.hparams.num_blocks):\n",
    "            for bc in range(block_count):\n",
    "                subsample = (bc == 0 and block_idx > 0) # Subsample the first block of each group, except the very first one.\n",
    "                blocks.append(\n",
    "                    self.hparams.block_class(c_in=c_hidden[block_idx if not subsample else (block_idx-1)],\n",
    "                                             act_fn=self.hparams.act_fn,\n",
    "                                             subsample=subsample,\n",
    "                                             c_out=c_hidden[block_idx])\n",
    "                )\n",
    "        self.blocks = nn.Sequential(*blocks)\n",
    "        \n",
    "        # Mapping to classification output\n",
    "        self.output_net = nn.Sequential(\n",
    "            nn.AdaptiveAvgPool2d((1,1)),\n",
    "            nn.Flatten(),\n",
    "            nn.Dropout(p=self.dropout_rate), ##newly added\n",
    "            nn.Linear(c_hidden[-1], self.hparams.num_classes)\n",
    "        )\n",
    "\n",
    "    def _init_params(self):\n",
    "        # Initialize the convolutions according to the activation function\n",
    "        # Fan-out focuses on the gradient distribution, and is commonly used in ResNets\n",
    "        for m in self.modules():\n",
    "            if isinstance(m, nn.Conv2d):\n",
    "                nn.init.kaiming_normal_(m.weight, mode='fan_out', nonlinearity=\"relu\")\n",
    "            elif isinstance(m, nn.BatchNorm2d):\n",
    "                nn.init.constant_(m.weight, 1)\n",
    "                nn.init.constant_(m.bias, 0)\n",
    "\n",
    "    def forward(self, x):\n",
    "        # TODO Task 3: Design Your Network\n",
    "        x = self.input_net(x)\n",
    "        x = self.blocks(x)\n",
    "        x = self.output_net(x)\n",
    "        return x\n",
    "\n",
    "    \n",
    "model = MyNet(num_blocks=[0,3,3], dropout_rate=0.5).to(device) ##newly changed dropout_rate\n",
    "optimizer = optim.SGD(model.parameters(), lr=0.1, momentum=0.9, weight_decay=1e-4)\n",
    "\n",
    "name = 'saved_ResNet_Block_dropout_weight.pth'\n",
    "model_train, train_loss = train_model_2(model, criterion, optimizer, num_epochs=25, save_path=name)\n",
    "test_model(model, load_path=name) \n",
    "\"final test accuracy = 0.8265, which is the best compared to the above three without dropout\"\n",
    "best_model = model_train"
   ]
  },
  {
   "cell_type": "markdown",
   "metadata": {
    "id": "Q8E_4eLwBKmD"
   },
   "source": [
    "## Task 4: The Optimizer (20 points)\n",
    "Keeping the best settings of Task 4, try 2 different optimizers (SGD and ADAM) with 3 different learning rates (0.01, 0.1, 1.) . Keep the other parameters as default. Plot the loss curves ( Training step vs Training loss ) for the 6 cases (Hint: Modify the train_model fuction). How does the learning rate affect the training?\n",
    "\n",
    "#### *Bonus Points: Define a validation set within the training set to examine the best model among the above cases. (Hint modify dataloaders and/or train_model function) "
   ]
  },
  {
   "cell_type": "code",
   "execution_count": 144,
   "metadata": {
    "id": "PpRAJHrtVO9o"
   },
   "outputs": [],
   "source": [
    "# Define a Convolutional Neural Network\n",
    "# class MyFinalNet(nn.Module):\n",
    "MyFinalNet = MyNet(num_blocks=[0,3,3], dropout_rate=0.5)\n",
    "model = MyFinalNet.to(device)"
   ]
  },
  {
   "cell_type": "code",
   "execution_count": 35,
   "metadata": {
    "id": "77S-thkZVO9q"
   },
   "outputs": [
    {
     "name": "stdout",
     "output_type": "stream",
     "text": [
      "Training complete in 5m 35s\n",
      "test Acc: 0.7754\n",
      "Testing complete in 0m 8s\n",
      "Training complete in 5m 26s\n",
      "test Acc: 0.8181\n",
      "Testing complete in 0m 8s\n",
      "Training complete in 5m 26s\n",
      "test Acc: 0.4735\n",
      "Testing complete in 0m 8s\n",
      "Training complete in 5m 31s\n",
      "test Acc: 0.7846\n",
      "Testing complete in 0m 9s\n",
      "Training complete in 5m 47s\n",
      "test Acc: 0.7740\n",
      "Testing complete in 0m 9s\n",
      "Training complete in 5m 47s\n",
      "test Acc: 0.1000\n",
      "Testing complete in 0m 9s\n"
     ]
    },
    {
     "data": {
      "image/png": "[encoded data removed]",
      "text/plain": [
       "<Figure size 640x480 with 1 Axes>"
      ]
     },
     "metadata": {},
     "output_type": "display_data"
    }
   ],
   "source": [
    "# TODO:  Define loss criterion - cross entropy loss\n",
    "criterion = F.cross_entropy\n",
    "\n",
    "# TODO Task 4: The Optimizer\n",
    "def configure_optimizers(model, name='SGD', rate=0.01):\n",
    "    if name=='SGD':\n",
    "        optimizer = optim.SGD(model.parameters(), lr=rate, momentum=0.9, weight_decay=1e-4)\n",
    "    elif name=='ADAM':\n",
    "        optimizer = optim.AdamW(model.parameters(), lr=rate, weight_decay=1e-4)\n",
    "    return optimizer\n",
    "\n",
    "## Train and evaluate\n",
    "\n",
    "rates = [0.01, 0.1, 1.0]\n",
    "\n",
    "for lr in rates:\n",
    "    \"SGD optimizer with learning rates of 0.01, 0.1, and 1.0\"\n",
    "    optimizer = configure_optimizers(model, name='SGD', rate=lr)\n",
    "    name = 'SGD_'+str(lr)+'_.pth'\n",
    "    _, train_losses = train_model_2(model, criterion, optimizer, save_path=name, is_print=False)\n",
    "    test_model(model, load_path=name)\n",
    "    plt.plot(train_losses, label=f\"SGD lr={lr}\")\n",
    "\n",
    "for lr in rates:\n",
    "    \"ADAM optimizer with learning rates of 0.01, 0.1, and 1.0\"\n",
    "    optimizer = configure_optimizers(model, name='ADAM', rate=lr)\n",
    "    name = 'ADAM_'+str(lr)+'_.pth'\n",
    "    _, train_losses = train_model_2(model, criterion, optimizer, save_path=name, is_print=False)\n",
    "    test_model(model, load_path=name)\n",
    "    plt.plot(train_losses, label=f\"ADAM lr={lr}\")\n",
    "\n",
    "plt.legend()\n",
    "plt.title(\"Training Loss vs. Training Step\")\n",
    "plt.xlabel(\"Training Step\")\n",
    "plt.ylabel(\"Training Loss\")\n",
    "plt.show()\n",
    "\"after training the above 6 cases, the best model is SGD optimizer with lr=0.1\""
   ]
  },
  {
   "cell_type": "markdown",
   "metadata": {
    "id": "l1BjghDmBKmE"
   },
   "source": [
    "### Display model predictions"
   ]
  },
  {
   "cell_type": "code",
   "execution_count": 82,
   "metadata": {
    "id": "praSRn54BKmE"
   },
   "outputs": [],
   "source": [
    "## Display model predictions\n",
    "## Generic function to display predictions for a few images\n",
    "\n",
    "dataloaders = {x: torch.utils.data.DataLoader(image_datasets[x], batch_size=64, num_workers=4) for x in ['train', 'test']}\n",
    "\n",
    "def display_predictions(model, num_images=6):\n",
    "    was_training = model.training\n",
    "    model.eval()\n",
    "    images_so_far = 0\n",
    "    fig = plt.figure()\n",
    "\n",
    "    with torch.no_grad():\n",
    "        for i, (inputs, labels) in enumerate(dataloaders['test']):\n",
    "            inputs = inputs.to(device)\n",
    "            labels = labels.to(device)\n",
    "\n",
    "            outputs = model(inputs)\n",
    "            _, preds = torch.max(outputs, 1)\n",
    "\n",
    "            for j in range(inputs.size()[0]):\n",
    "                images_so_far += 1\n",
    "                ax = plt.subplot(num_images//2, 2, images_so_far)\n",
    "                ax.axis('off')\n",
    "                ax.set_title('predicted: {}'.format(class_names[preds[j]]))\n",
    "                imshow(inputs.cpu().data[j])\n",
    "\n",
    "                if images_so_far == num_images:\n",
    "                    model.train(mode=was_training)\n",
    "                    return\n",
    "        model.train(mode=was_training)"
   ]
  },
  {
   "cell_type": "code",
   "execution_count": 83,
   "metadata": {
    "id": "6buAMF5CBKmE"
   },
   "outputs": [
    {
     "data": {
      "image/png": "[encoded data removed]",
      "text/plain": [
       "<Figure size 640x480 with 1 Axes>"
      ]
     },
     "metadata": {},
     "output_type": "display_data"
    },
    {
     "data": {
      "image/png": "[encoded data removed]",
      "text/plain": [
       "<Figure size 640x480 with 1 Axes>"
      ]
     },
     "metadata": {},
     "output_type": "display_data"
    },
    {
     "data": {
      "image/png": "[encoded data removed]",
      "text/plain": [
       "<Figure size 640x480 with 1 Axes>"
      ]
     },
     "metadata": {},
     "output_type": "display_data"
    },
    {
     "data": {
      "image/png": "[encoded data removed]",
      "text/plain": [
       "<Figure size 640x480 with 1 Axes>"
      ]
     },
     "metadata": {},
     "output_type": "display_data"
    },
    {
     "data": {
      "image/png": "[encoded data removed]",
      "text/plain": [
       "<Figure size 640x480 with 1 Axes>"
      ]
     },
     "metadata": {},
     "output_type": "display_data"
    },
    {
     "data": {
      "image/png": "[encoded data removed]",
      "text/plain": [
       "<Figure size 640x480 with 1 Axes>"
      ]
     },
     "metadata": {},
     "output_type": "display_data"
    },
    {
     "data": {
      "image/png": "[encoded data removed]",
      "text/plain": [
       "<Figure size 640x480 with 1 Axes>"
      ]
     },
     "metadata": {},
     "output_type": "display_data"
    },
    {
     "data": {
      "image/png": "[encoded data removed]",
      "text/plain": [
       "<Figure size 640x480 with 1 Axes>"
      ]
     },
     "metadata": {},
     "output_type": "display_data"
    },
    {
     "data": {
      "image/png": "[encoded data removed]",
      "text/plain": [
       "<Figure size 640x480 with 1 Axes>"
      ]
     },
     "metadata": {},
     "output_type": "display_data"
    },
    {
     "data": {
      "image/png": "[encoded data removed]",
      "text/plain": [
       "<Figure size 640x480 with 1 Axes>"
      ]
     },
     "metadata": {},
     "output_type": "display_data"
    }
   ],
   "source": [
    "# TODO Diplay your best model predictions\n",
    "## best_model from MyNet(num_blocks=[0,3,3], dropout_rate=0.5), lr=0.1, SGD optimizer\n",
    "display_predictions(best_model, num_images=10)"
   ]
  },
  {
   "cell_type": "markdown",
   "metadata": {
    "id": "E-A_mLSoVO9O"
   },
   "source": [
    "## Task 5: Feature Visualization (5 points)\n",
    "Visualize feature maps of the first and the last convolutional layer of your final network using **cifar_example.jpg** as input image. Show the visualization in the report.\n",
    "\n",
    "#### First layer activations\n",
    "<img src=\"https://i.imgur.com/kGB9AuP.png\" width=\"400\" align=\"left\">"
   ]
  },
  {
   "cell_type": "markdown",
   "metadata": {
    "id": "TsbbsIGKVO9P"
   },
   "source": [
    "#### Last layer activations\n",
    "\n",
    "<img src=\"https://i.imgur.com/qelH05X.png\" width=\"400\" align=\"left\">"
   ]
  },
  {
   "cell_type": "code",
   "execution_count": 84,
   "metadata": {
    "id": "IhQxWX8RVO91"
   },
   "outputs": [],
   "source": [
    "#Task 5: Visualization"
   ]
  },
  {
   "cell_type": "code",
   "execution_count": 132,
   "metadata": {
    "id": "gNX3eVEyVO94"
   },
   "outputs": [],
   "source": [
    "def transfer_single_img_to_tensor(img_path):\n",
    "    im = Image.open(img_path)\n",
    "    img = np.asarray(im)/255\n",
    "    mean = np.array([0.5, 0.5, 0.5])\n",
    "    std = np.array([0.5, 0.5, 0.5])\n",
    "    \n",
    "    inp = (img - mean) / std\n",
    "    inp = np.asarray(inp, dtype=np.float32)\n",
    "    inp = inp.transpose((2, 0, 1))\n",
    "    inp = np.expand_dims(inp, axis=0)\n",
    "    inp = torch.from_numpy(inp, )\n",
    "    inputs = inp.to(device)\n",
    "    return inputs"
   ]
  },
  {
   "cell_type": "code",
   "execution_count": 133,
   "metadata": {
    "id": "m4Qy8s4BVO9_"
   },
   "outputs": [],
   "source": [
    "def feature_imshow(inp, title=None):\n",
    "    \"\"\"Imshow for Tensor.\"\"\"\n",
    "    inp = inp.detach().numpy().transpose((1, 2, 0))\n",
    "    mean = np.array([0.5, 0.5, 0.5])\n",
    "    std = np.array([0.5, 0.5, 0.5])\n",
    "    inp = std * inp + mean\n",
    "    inp = np.clip(inp, 0, 1)\n",
    "    plt.imshow(inp)\n",
    "    if title is not None:\n",
    "        plt.title(title)\n",
    "    plt.pause(0.001)  # pause a bit so that plots are updated\n"
   ]
  },
  {
   "cell_type": "code",
   "execution_count": 152,
   "metadata": {
    "id": "L0AqVUu9VO97"
   },
   "outputs": [
    {
     "name": "stdout",
     "output_type": "stream",
     "text": [
      "torch.Size([1, 3, 32, 32])\n",
      "Sequential(\n",
      "  (0): Conv2d(3, 16, kernel_size=(3, 3), stride=(1, 1), padding=(1, 1), bias=False)\n",
      "  (1): BatchNorm2d(16, eps=1e-05, momentum=0.1, affine=True, track_running_stats=True)\n",
      "  (2): ReLU()\n",
      ")\n",
      "torch.Size([1, 16, 32, 32]) torch.Size([1, 10])\n"
     ]
    }
   ],
   "source": [
    "inputs = transfer_single_img_to_tensor('example_imgs/cifar_example.jpg') # Loads an image and normalizes it\n",
    "print(inputs.shape)\n",
    "model.eval()\n",
    "with torch.no_grad():\n",
    "   # TODO: Retrive the first and the last layer feature maps of your best model. (Hint: Move back to CPU)\n",
    "    model.cpu()\n",
    "    print(model.input_net)\n",
    "    # Get the feature maps\n",
    "    first_layer_maps = model.input_net[0](inputs.cpu())\n",
    "    last_layer_maps = model(inputs.cpu())\n",
    "    print(first_layer_maps.shape, last_layer_maps.shape)"
   ]
  },
  {
   "cell_type": "code",
   "execution_count": 149,
   "metadata": {
    "id": "2ofvGE8-VO-B"
   },
   "outputs": [
    {
     "name": "stdout",
     "output_type": "stream",
     "text": [
      "torch.Size([16, 32, 32])\n"
     ]
    },
    {
     "ename": "ValueError",
     "evalue": "operands could not be broadcast together with shapes (3,) (32,32,16) ",
     "output_type": "error",
     "traceback": [
      "\u001b[1;31m---------------------------------------------------------------------------\u001b[0m",
      "\u001b[1;31mValueError\u001b[0m                                Traceback (most recent call last)",
      "Cell \u001b[1;32mIn[149], line 4\u001b[0m\n\u001b[0;32m      2\u001b[0m out \u001b[38;5;241m=\u001b[39m torchvision\u001b[38;5;241m.\u001b[39mutils\u001b[38;5;241m.\u001b[39mmake_grid(first_layer_maps, normalize\u001b[38;5;241m=\u001b[39m\u001b[38;5;28;01mTrue\u001b[39;00m, scale_each\u001b[38;5;241m=\u001b[39m\u001b[38;5;28;01mTrue\u001b[39;00m)\n\u001b[0;32m      3\u001b[0m \u001b[38;5;28mprint\u001b[39m(out\u001b[38;5;241m.\u001b[39mshape)\n\u001b[1;32m----> 4\u001b[0m \u001b[43mfeature_imshow\u001b[49m\u001b[43m(\u001b[49m\u001b[43mout\u001b[49m\u001b[43m)\u001b[49m\n",
      "Cell \u001b[1;32mIn[133], line 6\u001b[0m, in \u001b[0;36mfeature_imshow\u001b[1;34m(inp, title)\u001b[0m\n\u001b[0;32m      4\u001b[0m mean \u001b[38;5;241m=\u001b[39m np\u001b[38;5;241m.\u001b[39marray([\u001b[38;5;241m0.5\u001b[39m, \u001b[38;5;241m0.5\u001b[39m, \u001b[38;5;241m0.5\u001b[39m])\n\u001b[0;32m      5\u001b[0m std \u001b[38;5;241m=\u001b[39m np\u001b[38;5;241m.\u001b[39marray([\u001b[38;5;241m0.5\u001b[39m, \u001b[38;5;241m0.5\u001b[39m, \u001b[38;5;241m0.5\u001b[39m])\n\u001b[1;32m----> 6\u001b[0m inp \u001b[38;5;241m=\u001b[39m \u001b[43mstd\u001b[49m\u001b[43m \u001b[49m\u001b[38;5;241;43m*\u001b[39;49m\u001b[43m \u001b[49m\u001b[43minp\u001b[49m \u001b[38;5;241m+\u001b[39m mean\n\u001b[0;32m      7\u001b[0m inp \u001b[38;5;241m=\u001b[39m np\u001b[38;5;241m.\u001b[39mclip(inp, \u001b[38;5;241m0\u001b[39m, \u001b[38;5;241m1\u001b[39m)\n\u001b[0;32m      8\u001b[0m plt\u001b[38;5;241m.\u001b[39mimshow(inp)\n",
      "\u001b[1;31mValueError\u001b[0m: operands could not be broadcast together with shapes (3,) (32,32,16) "
     ]
    }
   ],
   "source": [
    "# Visualize the feature maps\n",
    "out = torchvision.utils.make_grid(first_layer_maps, normalize=True, scale_each=True)\n",
    "print(out.shape)\n",
    "feature_imshow(out)"
   ]
  },
  {
   "cell_type": "code",
   "execution_count": 150,
   "metadata": {
    "id": "0Mo1xtSzVO-E"
   },
   "outputs": [
    {
     "name": "stdout",
     "output_type": "stream",
     "text": [
      "torch.Size([3, 1, 10])\n"
     ]
    },
    {
     "data": {
      "image/png": "[encoded data removed]",
      "text/plain": [
       "<Figure size 640x480 with 1 Axes>"
      ]
     },
     "metadata": {},
     "output_type": "display_data"
    }
   ],
   "source": [
    "out = torchvision.utils.make_grid(last_layer_maps, normalize=True, scale_each=True)\n",
    "print(out.shape)\n",
    "feature_imshow(out)"
   ]
  },
  {
   "cell_type": "markdown",
   "metadata": {},
   "source": [
    "## Task 6: Weight Visualization (5 points)\n",
    "Visualize weights of convolutional layers of your final network. Show the visualization in the report."
   ]
  },
  {
   "cell_type": "code",
   "execution_count": 137,
   "metadata": {},
   "outputs": [
    {
     "data": {
      "image/png": "[encoded data removed]",
      "text/plain": [
       "<Figure size 1800x250 with 6 Axes>"
      ]
     },
     "metadata": {},
     "output_type": "display_data"
    }
   ],
   "source": [
    "# TODO: Task 6\n",
    "# Hint: \n",
    "# 1) What is the size of each weight (filter) tensor?\n",
    "# 2) Normalize weight values to [0, 1]\n",
    "# 3) Each subfigure should be of size [kernel_size, kernel_size]\n",
    "# 4) How many subfigures in total?\n",
    "\n",
    "import math\n",
    "import seaborn as sns\n",
    "\n",
    "def plot_dists(val_dict, color=\"C0\", xlabel=None, stat=\"count\", use_kde=True):\n",
    "    columns = len(val_dict)\n",
    "    fig, ax = plt.subplots(1, columns, figsize=(columns*3, 2.5))\n",
    "    fig_index = 0\n",
    "    for key in sorted(val_dict.keys()):\n",
    "        key_ax = ax[fig_index%columns]\n",
    "        sns.histplot(val_dict[key], ax=key_ax, color=color, bins=50, stat=stat,\n",
    "                     kde=use_kde and ((val_dict[key].max()-val_dict[key].min())>1e-8)) # Only plot kde if there is variance\n",
    "        key_ax.set_title(f\"{key} \" + (r\"(%i $\\to$ %i)\" % (val_dict[key].shape[1], val_dict[key].shape[0]) if len(val_dict[key].shape)>1 else \"\"))\n",
    "        if xlabel is not None:\n",
    "            key_ax.set_xlabel(xlabel)\n",
    "        fig_index += 1\n",
    "    fig.subplots_adjust(wspace=0.4)\n",
    "    return fig\n",
    "\n",
    "def normalize_weights(conv_layer):\n",
    "    \"Normalize the weights\"\n",
    "    weights = conv_layer.weight.data\n",
    "    min_val = weights.min().item()\n",
    "    max_val = weights.max().item()\n",
    "    weights = (weights - min_val) / (max_val - min_val)\n",
    "    return weights\n",
    "\n",
    "def equal_var_init(model):\n",
    "    for name, param in model.named_parameters():\n",
    "        if name.endswith(\".bias\"):\n",
    "            param.data.fill_(0)\n",
    "        else:\n",
    "            #a = param.detach().numpy().shape[1]\n",
    "            a = 3\n",
    "            param.data.normal_(std=1.0/math.sqrt(a)) ##param.shape[1]\n",
    "\n",
    "def visualize_weight_distribution(model, color=\"C0\"):\n",
    "    weights = {}\n",
    "    for name, param in model.named_parameters():\n",
    "        if name.endswith(\".bias\"):\n",
    "            continue\n",
    "        key_name = f\"Layer {name.split('.')[1]}\"\n",
    "        weights[key_name] = param.detach().view(-1).cpu().numpy()\n",
    "\n",
    "    ## Plotting\n",
    "    fig = plot_dists(weights, color=color, xlabel=\"Weight vals\")\n",
    "    fig.suptitle(\"Weight distribution\", fontsize=14, y=1.05)\n",
    "    plt.show()\n",
    "    plt.close()\n",
    "\n",
    "\n",
    "equal_var_init(best_model)\n",
    "visualize_weight_distribution(best_model)"
   ]
  },
  {
   "cell_type": "code",
   "execution_count": null,
   "metadata": {},
   "outputs": [],
   "source": []
  }
 ],
 "metadata": {
  "colab": {
   "collapsed_sections": [],
   "name": "Project1.ipynb",
   "provenance": []
  },
  "kernelspec": {
   "display_name": "Python 3 (ipykernel)",
   "language": "python",
   "name": "python3"
  },
  "language_info": {
   "codemirror_mode": {
    "name": "ipython",
    "version": 3
   },
   "file_extension": ".py",
   "mimetype": "text/x-python",
   "name": "python",
   "nbconvert_exporter": "python",
   "pygments_lexer": "ipython3",
   "version": "3.9.18"
  }
 },
 "nbformat": 4,
 "nbformat_minor": 4
}
